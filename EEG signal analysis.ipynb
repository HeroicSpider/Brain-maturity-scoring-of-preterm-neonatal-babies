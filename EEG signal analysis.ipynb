{
 "cells": [
  {
   "cell_type": "code",
   "execution_count": 79,
   "id": "d756a226",
   "metadata": {},
   "outputs": [],
   "source": [
    "from glob import glob\n",
    "import os\n",
    "import mne\n",
    "import numpy as np\n",
    "import pandas\n",
    "import matplotlib.pyplot as plt\n",
    "import scipy.io\n",
    "import sys\n",
    "import h5py\n",
    "from scipy.signal import filtfilt\n",
    "from scipy import stats\n",
    "import scipy.fftpack as sf\n",
    "from sklearn.decomposition import FastICA, PCA"
   ]
  },
  {
   "cell_type": "code",
   "execution_count": 3,
   "id": "7173e4f9",
   "metadata": {},
   "outputs": [],
   "source": [
    "mat=scipy.io.loadmat('EEG_raw.mat')"
   ]
  },
  {
   "cell_type": "code",
   "execution_count": 4,
   "id": "f7547cf4",
   "metadata": {},
   "outputs": [
    {
     "name": "stdout",
     "output_type": "stream",
     "text": [
      "{'__header__': b'MATLAB 5.0 MAT-file, Platform: MACI64, Created on: Fri Dec 13 19:56:37 2013', '__version__': '1.0', '__globals__': [], 'data': array([[-5.288e+00, -2.000e-02,  5.723e+00, ..., -1.123e+00, -1.094e+00,\n",
      "        -1.040e+00],\n",
      "       [ 7.212e+00, -5.942e+00, -1.792e+00, ..., -3.320e-01, -4.050e-01,\n",
      "        -5.180e-01],\n",
      "       [ 5.370e-01,  1.309e+00,  3.218e+00, ..., -2.000e-02,  1.000e-02,\n",
      "         4.900e-02],\n",
      "       ...,\n",
      "       [ 6.963e+00, -5.684e+00,  3.452e+00, ..., -5.660e-01, -5.470e-01,\n",
      "        -5.320e-01],\n",
      "       [ 0.000e+00, -4.640e-01, -1.000e-02, ...,  4.880e-01,  4.880e-01,\n",
      "         4.830e-01],\n",
      "       [ 0.000e+00, -1.030e+00,  0.000e+00, ...,  1.000e-02,  5.000e-03,\n",
      "         1.500e-02]])}\n"
     ]
    }
   ],
   "source": [
    "print(mat)"
   ]
  },
  {
   "cell_type": "code",
   "execution_count": 20,
   "id": "9520991f",
   "metadata": {},
   "outputs": [
    {
     "name": "stdout",
     "output_type": "stream",
     "text": [
      "[[-5.288e+00 -2.000e-02  5.723e+00 ... -1.123e+00 -1.094e+00 -1.040e+00]\n",
      " [ 7.212e+00 -5.942e+00 -1.792e+00 ... -3.320e-01 -4.050e-01 -5.180e-01]\n",
      " [ 5.370e-01  1.309e+00  3.218e+00 ... -2.000e-02  1.000e-02  4.900e-02]\n",
      " ...\n",
      " [ 6.963e+00 -5.684e+00  3.452e+00 ... -5.660e-01 -5.470e-01 -5.320e-01]\n",
      " [ 0.000e+00 -4.640e-01 -1.000e-02 ...  4.880e-01  4.880e-01  4.830e-01]\n",
      " [ 0.000e+00 -1.030e+00  0.000e+00 ...  1.000e-02  5.000e-03  1.500e-02]]\n"
     ]
    }
   ],
   "source": [
    "print(mat['data'])"
   ]
  },
  {
   "cell_type": "code",
   "execution_count": 21,
   "id": "797c233a",
   "metadata": {},
   "outputs": [
    {
     "name": "stdout",
     "output_type": "stream",
     "text": [
      "[[-5.288e+00 -2.000e-02  5.723e+00 ... -1.123e+00 -1.094e+00 -1.040e+00]\n",
      " [ 7.212e+00 -5.942e+00 -1.792e+00 ... -3.320e-01 -4.050e-01 -5.180e-01]\n",
      " [ 5.370e-01  1.309e+00  3.218e+00 ... -2.000e-02  1.000e-02  4.900e-02]\n",
      " ...\n",
      " [ 6.963e+00 -5.684e+00  3.452e+00 ... -5.660e-01 -5.470e-01 -5.320e-01]\n",
      " [ 0.000e+00 -4.640e-01 -1.000e-02 ...  4.880e-01  4.880e-01  4.830e-01]\n",
      " [ 0.000e+00 -1.030e+00  0.000e+00 ...  1.000e-02  5.000e-03  1.500e-02]]\n",
      "<class 'numpy.ndarray'>\n"
     ]
    }
   ],
   "source": [
    "X=mat[\"data\"]\n",
    "print(X)\n",
    "print(type(X))"
   ]
  },
  {
   "cell_type": "code",
   "execution_count": 22,
   "id": "ea53065e",
   "metadata": {},
   "outputs": [
    {
     "data": {
      "text/plain": [
       "-1.47"
      ]
     },
     "execution_count": 22,
     "metadata": {},
     "output_type": "execute_result"
    }
   ],
   "source": [
    "X[0][1000]"
   ]
  },
  {
   "cell_type": "code",
   "execution_count": 28,
   "id": "32e19d73",
   "metadata": {},
   "outputs": [
    {
     "name": "stdout",
     "output_type": "stream",
     "text": [
      "(49, 340000)\n"
     ]
    }
   ],
   "source": [
    "print(X.shape)"
   ]
  },
  {
   "cell_type": "code",
   "execution_count": 62,
   "id": "2a725570",
   "metadata": {},
   "outputs": [],
   "source": [
    "A=X[0]"
   ]
  },
  {
   "cell_type": "code",
   "execution_count": 30,
   "id": "58cc3d88",
   "metadata": {},
   "outputs": [
    {
     "data": {
      "text/plain": [
       "array([-5.288, -0.02 ,  5.723, ..., -1.123, -1.094, -1.04 ])"
      ]
     },
     "execution_count": 30,
     "metadata": {},
     "output_type": "execute_result"
    }
   ],
   "source": [
    "A"
   ]
  },
  {
   "cell_type": "code",
   "execution_count": 41,
   "id": "f364a889",
   "metadata": {},
   "outputs": [
    {
     "data": {
      "text/plain": [
       "[<matplotlib.lines.Line2D at 0x1d1a644a4f0>]"
      ]
     },
     "execution_count": 41,
     "metadata": {},
     "output_type": "execute_result"
    },
    {
     "data": {
      "image/png": "[encoded data removed]",
      "text/plain": [
       "<Figure size 432x288 with 1 Axes>"
      ]
     },
     "metadata": {
      "needs_background": "light"
     },
     "output_type": "display_data"
    }
   ],
   "source": [
    "t=np.linspace(0,340,340000)\n",
    "plt.plot(t,A)"
   ]
  },
  {
   "cell_type": "code",
   "execution_count": 66,
   "id": "d5a15152",
   "metadata": {},
   "outputs": [
    {
     "name": "stdout",
     "output_type": "stream",
     "text": [
      "[1.10694552 2.1847539  3.18259294 ... 1.04556854 0.95469156 0.86487433]\n"
     ]
    },
    {
     "data": {
      "image/png": "[encoded data removed]",
      "text/plain": [
       "<Figure size 432x288 with 1 Axes>"
      ]
     },
     "metadata": {
      "needs_background": "light"
     },
     "output_type": "display_data"
    }
   ],
   "source": [
    "fs=1000\n",
    "fl=1\n",
    "fh=45\n",
    "nyq=0.5*fs\n",
    "l=fl/nyq\n",
    "h=fh/nyq\n",
    "order=2\n",
    "b,a=scipy.signal.butter(order, [l,h], 'bandpass', analog=False)\n",
    "y=scipy.signal.filtfilt(b,a,A,axis=0)\n",
    "plt.plot(t,y)\n",
    "print(y)"
   ]
  },
  {
   "cell_type": "code",
   "execution_count": 73,
   "id": "91b38d3b",
   "metadata": {},
   "outputs": [
    {
     "name": "stdout",
     "output_type": "stream",
     "text": [
      "[[-4.08459509  2.90301878  4.27150396 ... -0.54574124 -0.52111965\n",
      "  -0.50726453]\n",
      " [-2.41096984  2.53778052  2.96191807 ... -0.3474209  -0.32941983\n",
      "  -0.32492147]\n",
      " [-0.87046417  2.20177653  1.74047468 ... -0.16166079 -0.14987085\n",
      "  -0.15405314]\n",
      " ...\n",
      " [-0.68487559  1.97972522  0.81474764 ... -0.15990839 -0.15972112\n",
      "  -0.14163405]\n",
      " [-0.6740403   1.78136091  0.74403295 ... -0.13627389 -0.13321119\n",
      "  -0.12073299]\n",
      " [-0.69513898  1.60305205  0.66517244 ... -0.11037323 -0.10431366\n",
      "  -0.09797005]]\n"
     ]
    }
   ],
   "source": [
    "fs=1000\n",
    "fl=1\n",
    "fh=45\n",
    "nyq=0.5*fs\n",
    "l=fl/nyq\n",
    "h=fh/nyq\n",
    "order=2\n",
    "b,a=scipy.signal.butter(order, [l,h], 'bandpass', analog=False)\n",
    "BP=scipy.signal.filtfilt(b,a,X,axis=0)\n",
    "print(BP)"
   ]
  },
  {
   "cell_type": "code",
   "execution_count": 74,
   "id": "a07b0208",
   "metadata": {},
   "outputs": [
    {
     "name": "stdout",
     "output_type": "stream",
     "text": [
      "[[-5.288e+00 -2.000e-02  5.723e+00 ... -1.123e+00 -1.094e+00 -1.040e+00]\n",
      " [ 7.212e+00 -5.942e+00 -1.792e+00 ... -3.320e-01 -4.050e-01 -5.180e-01]\n",
      " [ 5.370e-01  1.309e+00  3.218e+00 ... -2.000e-02  1.000e-02  4.900e-02]\n",
      " ...\n",
      " [ 6.963e+00 -5.684e+00  3.452e+00 ... -5.660e-01 -5.470e-01 -5.320e-01]\n",
      " [ 0.000e+00 -4.640e-01 -1.000e-02 ...  4.880e-01  4.880e-01  4.830e-01]\n",
      " [ 0.000e+00 -1.030e+00  0.000e+00 ...  1.000e-02  5.000e-03  1.500e-02]]\n"
     ]
    }
   ],
   "source": [
    "print(X)"
   ]
  },
  {
   "cell_type": "code",
   "execution_count": 77,
   "id": "53ce7c56",
   "metadata": {},
   "outputs": [
    {
     "data": {
      "text/plain": [
       "[<matplotlib.lines.Line2D at 0x1d1b86bfdc0>]"
      ]
     },
     "execution_count": 77,
     "metadata": {},
     "output_type": "execute_result"
    },
    {
     "data": {
      "image/png": "[encoded data removed]",
      "text/plain": [
       "<Figure size 432x288 with 1 Axes>"
      ]
     },
     "metadata": {
      "needs_background": "light"
     },
     "output_type": "display_data"
    }
   ],
   "source": [
    "plt.plot(t,X[2])"
   ]
  },
  {
   "cell_type": "code",
   "execution_count": 78,
   "id": "bb68b22f",
   "metadata": {},
   "outputs": [
    {
     "data": {
      "text/plain": [
       "[<matplotlib.lines.Line2D at 0x1d1b9d604c0>]"
      ]
     },
     "execution_count": 78,
     "metadata": {},
     "output_type": "execute_result"
    },
    {
     "data": {
      "image/png": "[encoded data removed]",
      "text/plain": [
       "<Figure size 432x288 with 1 Axes>"
      ]
     },
     "metadata": {
      "needs_background": "light"
     },
     "output_type": "display_data"
    }
   ],
   "source": [
    "plt.plot(t,BP[2])"
   ]
  },
  {
   "cell_type": "code",
   "execution_count": null,
   "id": "ad88e27b",
   "metadata": {},
   "outputs": [],
   "source": []
  }
 ],
 "metadata": {
  "kernelspec": {
   "display_name": "Python 3",
   "language": "python",
   "name": "python3"
  },
  "language_info": {
   "codemirror_mode": {
    "name": "ipython",
    "version": 3
   },
   "file_extension": ".py",
   "mimetype": "text/x-python",
   "name": "python",
   "nbconvert_exporter": "python",
   "pygments_lexer": "ipython3",
   "version": "3.8.8"
  }
 },
 "nbformat": 4,
 "nbformat_minor": 5
}
