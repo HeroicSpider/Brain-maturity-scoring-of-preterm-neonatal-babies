{
 "cells": [
  {
   "cell_type": "code",
   "execution_count": 43,
   "id": "5f5e49c4",
   "metadata": {},
   "outputs": [],
   "source": [
    "from glob import glob\n",
    "import os\n",
    "import mne\n",
    "import numpy as np\n",
    "import pandas\n",
    "import matplotlib.pyplot as plt\n",
    "import scipy.io\n",
    "import sys\n",
    "import h5py\n",
    "from scipy.signal import filtfilt\n",
    "from scipy import stats"
   ]
  },
  {
   "cell_type": "code",
   "execution_count": 3,
   "id": "11f68094",
   "metadata": {},
   "outputs": [],
   "source": [
    "mat=scipy.io.loadmat('EEG_raw.mat')"
   ]
  },
  {
   "cell_type": "code",
   "execution_count": 4,
   "id": "bb799544",
   "metadata": {},
   "outputs": [
    {
     "name": "stdout",
     "output_type": "stream",
     "text": [
      "{'__header__': b'MATLAB 5.0 MAT-file, Platform: MACI64, Created on: Fri Dec 13 19:56:37 2013', '__version__': '1.0', '__globals__': [], 'data': array([[-5.288e+00, -2.000e-02,  5.723e+00, ..., -1.123e+00, -1.094e+00,\n",
      "        -1.040e+00],\n",
      "       [ 7.212e+00, -5.942e+00, -1.792e+00, ..., -3.320e-01, -4.050e-01,\n",
      "        -5.180e-01],\n",
      "       [ 5.370e-01,  1.309e+00,  3.218e+00, ..., -2.000e-02,  1.000e-02,\n",
      "         4.900e-02],\n",
      "       ...,\n",
      "       [ 6.963e+00, -5.684e+00,  3.452e+00, ..., -5.660e-01, -5.470e-01,\n",
      "        -5.320e-01],\n",
      "       [ 0.000e+00, -4.640e-01, -1.000e-02, ...,  4.880e-01,  4.880e-01,\n",
      "         4.830e-01],\n",
      "       [ 0.000e+00, -1.030e+00,  0.000e+00, ...,  1.000e-02,  5.000e-03,\n",
      "         1.500e-02]])}\n"
     ]
    }
   ],
   "source": [
    "print(mat)"
   ]
  },
  {
   "cell_type": "code",
   "execution_count": 20,
   "id": "eec1679c",
   "metadata": {},
   "outputs": [
    {
     "name": "stdout",
     "output_type": "stream",
     "text": [
      "[[-5.288e+00 -2.000e-02  5.723e+00 ... -1.123e+00 -1.094e+00 -1.040e+00]\n",
      " [ 7.212e+00 -5.942e+00 -1.792e+00 ... -3.320e-01 -4.050e-01 -5.180e-01]\n",
      " [ 5.370e-01  1.309e+00  3.218e+00 ... -2.000e-02  1.000e-02  4.900e-02]\n",
      " ...\n",
      " [ 6.963e+00 -5.684e+00  3.452e+00 ... -5.660e-01 -5.470e-01 -5.320e-01]\n",
      " [ 0.000e+00 -4.640e-01 -1.000e-02 ...  4.880e-01  4.880e-01  4.830e-01]\n",
      " [ 0.000e+00 -1.030e+00  0.000e+00 ...  1.000e-02  5.000e-03  1.500e-02]]\n"
     ]
    }
   ],
   "source": [
    "print(mat['data'])"
   ]
  },
  {
   "cell_type": "code",
   "execution_count": 21,
   "id": "29501ace",
   "metadata": {},
   "outputs": [
    {
     "name": "stdout",
     "output_type": "stream",
     "text": [
      "[[-5.288e+00 -2.000e-02  5.723e+00 ... -1.123e+00 -1.094e+00 -1.040e+00]\n",
      " [ 7.212e+00 -5.942e+00 -1.792e+00 ... -3.320e-01 -4.050e-01 -5.180e-01]\n",
      " [ 5.370e-01  1.309e+00  3.218e+00 ... -2.000e-02  1.000e-02  4.900e-02]\n",
      " ...\n",
      " [ 6.963e+00 -5.684e+00  3.452e+00 ... -5.660e-01 -5.470e-01 -5.320e-01]\n",
      " [ 0.000e+00 -4.640e-01 -1.000e-02 ...  4.880e-01  4.880e-01  4.830e-01]\n",
      " [ 0.000e+00 -1.030e+00  0.000e+00 ...  1.000e-02  5.000e-03  1.500e-02]]\n",
      "<class 'numpy.ndarray'>\n"
     ]
    }
   ],
   "source": [
    "X=mat[\"data\"]\n",
    "print(X)\n",
    "print(type(X))"
   ]
  },
  {
   "cell_type": "code",
   "execution_count": 22,
   "id": "e279f835",
   "metadata": {},
   "outputs": [
    {
     "data": {
      "text/plain": [
       "-1.47"
      ]
     },
     "execution_count": 22,
     "metadata": {},
     "output_type": "execute_result"
    }
   ],
   "source": [
    "X[0][1000]"
   ]
  },
  {
   "cell_type": "code",
   "execution_count": 28,
   "id": "5698210c",
   "metadata": {},
   "outputs": [
    {
     "name": "stdout",
     "output_type": "stream",
     "text": [
      "(49, 340000)\n"
     ]
    }
   ],
   "source": [
    "print(X.shape)"
   ]
  },
  {
   "cell_type": "code",
   "execution_count": 29,
   "id": "e0694025",
   "metadata": {},
   "outputs": [],
   "source": [
    "A=X[0]"
   ]
  },
  {
   "cell_type": "code",
   "execution_count": 30,
   "id": "c5573b49",
   "metadata": {},
   "outputs": [
    {
     "data": {
      "text/plain": [
       "array([-5.288, -0.02 ,  5.723, ..., -1.123, -1.094, -1.04 ])"
      ]
     },
     "execution_count": 30,
     "metadata": {},
     "output_type": "execute_result"
    }
   ],
   "source": [
    "A"
   ]
  },
  {
   "cell_type": "code",
   "execution_count": 41,
   "id": "3bd541e6",
   "metadata": {},
   "outputs": [
    {
     "data": {
      "text/plain": [
       "[<matplotlib.lines.Line2D at 0x1d1a644a4f0>]"
      ]
     },
     "execution_count": 41,
     "metadata": {},
     "output_type": "execute_result"
    },
    {
     "data": {
      "image/png": "[encoded data removed]",
      "text/plain": [
       "<Figure size 432x288 with 1 Axes>"
      ]
     },
     "metadata": {
      "needs_background": "light"
     },
     "output_type": "display_data"
    }
   ],
   "source": [
    "t=np.linspace(0,340,340000)\n",
    "plt.plot(t,A)"
   ]
  },
  {
   "cell_type": "code",
   "execution_count": 52,
   "id": "e9f66505",
   "metadata": {},
   "outputs": [
    {
     "data": {
      "text/plain": [
       "[<matplotlib.lines.Line2D at 0x1d1b350db80>]"
      ]
     },
     "execution_count": 52,
     "metadata": {},
     "output_type": "execute_result"
    },
    {
     "data": {
      "image/png": "[encoded data removed]",
      "text/plain": [
       "<Figure size 432x288 with 1 Axes>"
      ]
     },
     "metadata": {
      "needs_background": "light"
     },
     "output_type": "display_data"
    }
   ],
   "source": [
    "fs=1000\n",
    "fl=1\n",
    "fh=70\n",
    "nyq=0.5*fs\n",
    "l=fl/nyq\n",
    "h=fh/nyq\n",
    "order=2\n",
    "b,a=scipy.signal.butter(order, [l,h], 'bandpass', analog=False)\n",
    "y=scipy.signal.filtfilt(b,a,A,axis=0)\n",
    "plt.plot(t,y)"
   ]
  },
  {
   "cell_type": "code",
   "execution_count": null,
   "id": "dbb7b2ce",
   "metadata": {},
   "outputs": [],
   "source": []
  }
 ],
 "metadata": {
  "kernelspec": {
   "display_name": "Python 3",
   "language": "python",
   "name": "python3"
  },
  "language_info": {
   "codemirror_mode": {
    "name": "ipython",
    "version": 3
   },
   "file_extension": ".py",
   "mimetype": "text/x-python",
   "name": "python",
   "nbconvert_exporter": "python",
   "pygments_lexer": "ipython3",
   "version": "3.8.8"
  }
 },
 "nbformat": 4,
 "nbformat_minor": 5
}
